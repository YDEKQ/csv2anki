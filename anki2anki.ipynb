{
 "cells": [
  {
   "cell_type": "code",
   "execution_count": 4,
   "metadata": {
    "collapsed": false
   },
   "outputs": [
    {
     "name": "stdout",
     "output_type": "stream",
     "text": [
      "<sqlite3.Connection object at 0x000000000492E650>\n"
     ]
    }
   ],
   "source": [
    "import zipfile, shutil\n",
    "import sqlite3 as sql\n",
    "import json, os, sys\n",
    "import pprint\n",
    "\n",
    "\n",
    "\n",
    "def get_temp_dir(path, dir_name='temp'):\n",
    "    temp_dir = os.path.join(path, dir_name)\n",
    "    if os.path.exists(temp_dir):\n",
    "        shutil.rmtree(temp_dir)\n",
    "    os.mkdir(temp_dir)\n",
    "    return temp_dir\n",
    "\n",
    "\n",
    "def unpack_apkg(path, unpack_dir=None):\n",
    "    if not unpack_dir:\n",
    "        unpack_dir = get_temp_dir(path+'/..', 'unpack')\n",
    "    db_path = os.path.join(unpack_dir, 'collection.anki2')\n",
    "    os.mkdir(os.path.join(unpack_dir, 'media'))\n",
    "    with zipfile.ZipFile(path, 'r') as z:\n",
    "        media = z.read('media').decode()\n",
    "        media = json.loads(media)\n",
    "        for i in media:\n",
    "            fm = z.read(i)\n",
    "            with open(os.path.join(unpack_dir+'/media', media[i]), 'wb') as f:\n",
    "                f.write(fm)\n",
    "        db = z.read('collection.anki2')\n",
    "        with open(os.path.join(unpack_dir, 'collection.anki2'), 'wb') as f:\n",
    "            f.write(db)\n",
    "    db_path = os.path.abspath(db_path)\n",
    "    dbconn = sql.connect(db_path)\n",
    "    print(dbconn)\n",
    "    cursor = dbconn.cursor()\n",
    "    items = cursor.execute('select conf,models,decks,dconf,tags from col').fetchone()\n",
    "    for i, item_name in enumerate(['conf','models','decks','dconf','tags']):\n",
    "        with open(os.path.join(unpack_dir, item_name+'.json'), 'w') as f:\n",
    "            f.write(items[i])\n",
    "        \n",
    "unpack_apkg('a.apkg')\n",
    "def package_media(path, temp_dir=None, ex={'collection.anki2'}):\n",
    "    if not temp_dir:\n",
    "        temp_dir = get_temp_dir(path+'/..')\n",
    "    media = dict()\n",
    "    media_files = os.listdir(path)\n",
    "    media_files = filter(lambda x: x not in ex, media_files)\n",
    "    for i, m in enumerate(media_files):\n",
    "        i = str(i)\n",
    "        media[i] = m\n",
    "        shutil.copyfile(os.path.join(path, m), os.path.join(temp_dir, i))\n",
    "    with open(os.path.join(temp_dir, 'media'), 'w') as f:\n",
    "        json.dump(media, f)\n",
    "\n",
    "        \n",
    "def gen_from_apkg(apkg_path, temp_dir=None):\n",
    "    if not temp_dir:\n",
    "        temp_dir = get_temp_dir(path+'/..')\n",
    "        \n",
    "        \n",
    "package_media('unpack/media')\n"
   ]
  },
  {
   "cell_type": "code",
   "execution_count": null,
   "metadata": {
    "collapsed": true
   },
   "outputs": [],
   "source": [
    "    cursor = dbconn.cursor"
   ]
  },
  {
   "cell_type": "code",
   "execution_count": null,
   "metadata": {
    "collapsed": true
   },
   "outputs": [],
   "source": [
    "    cursor = dbconn.cursor"
   ]
  },
  {
   "cell_type": "code",
   "execution_count": 12,
   "metadata": {
    "collapsed": false
   },
   "outputs": [
    {
     "name": "stdout",
     "output_type": "stream",
     "text": [
      "b\n",
      "q\n"
     ]
    }
   ],
   "source": [
    "for i in {'q': '1', \"b\": \"c\"}:\n",
    "    print(i)"
   ]
  },
  {
   "cell_type": "code",
   "execution_count": 3,
   "metadata": {
    "collapsed": false
   },
   "outputs": [
    {
     "name": "stdout",
     "output_type": "stream",
     "text": [
      "d:\\playground\\csv2anki\n"
     ]
    }
   ],
   "source": [
    "cd d:\\playground\\csv2anki"
   ]
  }
 ],
 "metadata": {
  "anaconda-cloud": {},
  "kernelspec": {
   "display_name": "Python [default]",
   "language": "python",
   "name": "python3"
  },
  "language_info": {
   "codemirror_mode": {
    "name": "ipython",
    "version": 3
   },
   "file_extension": ".py",
   "mimetype": "text/x-python",
   "name": "python",
   "nbconvert_exporter": "python",
   "pygments_lexer": "ipython3",
   "version": "3.5.2"
  }
 },
 "nbformat": 4,
 "nbformat_minor": 1
}
