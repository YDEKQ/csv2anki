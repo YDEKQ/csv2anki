<<<<<<< HEAD
version https://git-lfs.github.com/spec/v1
oid sha256:0bc01e660273c26192319dab4f1fc094ba81fb77eb25bb941566224e0c3b412a
size 19408
=======
{
 "cells": [
  {
   "cell_type": "markdown",
   "metadata": {},
   "source": [
    "根据指定的 csv, css, tmpls( [{afmt, qfmt}, {...}, ...] ), flds( [{font, name}, ...])\n",
    "根据指定的 anki2"
   ]
  },
  {
   "cell_type": "code",
   "execution_count": 2,
   "metadata": {
    "collapsed": false
   },
   "outputs": [
    {
     "name": "stdout",
     "output_type": "stream",
     "text": [
      "{'css': '.card {\\n'\n",
      "        ' font-family: arial;\\n'\n",
      "        ' font-size: 20px;\\n'\n",
      "        ' text-align: center;\\n'\n",
      "        ' color: black;\\n'\n",
      "        ' background-color: white;\\n'\n",
      "        '}\\n',\n",
      " 'did': 1470123357010,\n",
      " 'flds': [{'font': 'Arial',\n",
      "           'media': [],\n",
      "           'name': '字母',\n",
      "           'ord': 0,\n",
      "           'rtl': False,\n",
      "           'size': 20,\n",
      "           'sticky': False},\n",
      "          {'font': 'Arial',\n",
      "           'media': [],\n",
      "           'name': '识别码',\n",
      "           'ord': 1,\n",
      "           'rtl': False,\n",
      "           'size': 20,\n",
      "           'sticky': False},\n",
      "          {'font': 'Arial',\n",
      "           'media': [],\n",
      "           'name': '一级简码',\n",
      "           'ord': 2,\n",
      "           'rtl': False,\n",
      "           'size': 20,\n",
      "           'sticky': False},\n",
      "          {'font': 'Arial',\n",
      "           'media': [],\n",
      "           'name': '口诀',\n",
      "           'ord': 3,\n",
      "           'rtl': False,\n",
      "           'size': 20,\n",
      "           'sticky': False},\n",
      "          {'font': 'Arial',\n",
      "           'media': [],\n",
      "           'name': '图片',\n",
      "           'ord': 4,\n",
      "           'rtl': False,\n",
      "           'size': 20,\n",
      "           'sticky': False},\n",
      "          {'font': 'Arial',\n",
      "           'media': [],\n",
      "           'name': '键位',\n",
      "           'ord': 5,\n",
      "           'rtl': False,\n",
      "           'size': 20,\n",
      "           'sticky': False}],\n",
      " 'id': '1470123337189',\n",
      " 'latexPost': '\\\\end{document}',\n",
      " 'latexPre': '\\\\documentclass[12pt]{article}\\n'\n",
      "             '\\\\special{papersize=3in,5in}\\n'\n",
      "             '\\\\usepackage[utf8]{inputenc}\\n'\n",
      "             '\\\\usepackage{amssymb,amsmath}\\n'\n",
      "             '\\\\pagestyle{empty}\\n'\n",
      "             '\\\\setlength{\\\\parindent}{0in}\\n'\n",
      "             '\\\\begin{document}\\n',\n",
      " 'mod': 1470127123,\n",
      " 'name': '基础',\n",
      " 'req': [[0, 'any', [0, 5]], [1, 'all', [3]]],\n",
      " 'sortf': 0,\n",
      " 'tags': [],\n",
      " 'tmpls': [{'afmt': '{{字母}} {{识别码}} {{一级简码}}\\n'\n",
      "                    '<hr id=answer>\\n'\n",
      "                    '{{口诀}} <br>\\n'\n",
      "                    '{{图片}}<br>\\n'\n",
      "                    '{{键位}}',\n",
      "            'bafmt': '',\n",
      "            'bqfmt': '',\n",
      "            'did': None,\n",
      "            'name': '卡片 2',\n",
      "            'ord': 0,\n",
      "            'qfmt': '{{字母}} <br>\\n{{键位}}'},\n",
      "           {'afmt': '{{FrontSide}}\\n'\n",
      "                    '\\n'\n",
      "                    '<hr id=answer>\\n'\n",
      "                    '\\n'\n",
      "                    '{{字母}} {{识别码}} {{一级简码}} <br>\\n'\n",
      "                    '{{图片}}<br>\\n'\n",
      "                    '{{键位}}',\n",
      "            'bafmt': '',\n",
      "            'bqfmt': '',\n",
      "            'did': 1470123357010,\n",
      "            'name': '卡片 3',\n",
      "            'ord': 1,\n",
      "            'qfmt': '{{口诀}}'}],\n",
      " 'type': 0,\n",
      " 'usn': 0,\n",
      " 'vers': []}\n",
      "[{'afmt': '{{字母}} {{识别码}} {{一级简码}}\\n'\n",
      "          '<hr id=answer>\\n'\n",
      "          '{{口诀}} <br>\\n'\n",
      "          '{{图片}}<br>\\n'\n",
      "          '{{键位}}',\n",
      "  'bafmt': '',\n",
      "  'bqfmt': '',\n",
      "  'did': None,\n",
      "  'name': '卡片 2',\n",
      "  'ord': 0,\n",
      "  'qfmt': '{{字母}} <br>\\n{{键位}}'},\n",
      " {'afmt': '{{FrontSide}}\\n'\n",
      "          '\\n'\n",
      "          '<hr id=answer>\\n'\n",
      "          '\\n'\n",
      "          '{{字母}} {{识别码}} {{一级简码}} <br>\\n'\n",
      "          '{{图片}}<br>\\n'\n",
      "          '{{键位}}',\n",
      "  'bafmt': '',\n",
      "  'bqfmt': '',\n",
      "  'did': 1470123357010,\n",
      "  'name': '卡片 3',\n",
      "  'ord': 1,\n",
      "  'qfmt': '{{口诀}}'}]\n"
     ]
    }
   ],
   "source": [
    "import zipfile\n",
    "import sqlite3 as sql\n",
    "import json\n",
    "import pprint\n",
    "\n",
    "with zipfile.ZipFile('a.apkg', 'r') as z, open('collection.anki2', 'wb') as anki2:\n",
    "    db = z.read('collection.anki2')\n",
    "    anki2.write(db)\n",
    "    dbconn = sql.connect('collection.anki2')\n",
    "    cursor = dbconn.cursor()\n",
    "    cursor.execute('select models from col')\n",
    "    models = json.loads(cursor.fetchone()[0])\n",
    "    models = models.popitem()[1]\n",
    "    pprint.pprint(models)\n",
    "    pprint.pprint(models['tmpls'])\n",
    "\n",
    "    \n",
    "#     cursor.execute('select decks from col')\n",
    "#     decks = json.loads(cursor.fetchone()[0])\n",
    "#     decks = decks.popitem()[1]\n",
    "#     pprint.pprint(decks)\n",
    "#     cursor.execute('select decks from col')\n",
    "#     col = cursor.fetchone()[0]\n",
    "#     col = json.loads(col)\n",
    "#     pprint.pprint(col)"
   ]
  },
  {
   "cell_type": "markdown",
   "metadata": {},
   "source": [
    "model\n",
    "\n",
    "- css\n",
    "- flds\n",
    "  - font\n",
    "  - name\n",
    "  - ord\n",
    "  - rtl\n",
    "  - size\n",
    "- tmpls\n",
    "  - name\n",
    "  - afmt\n",
    "  - qfmt\n",
    "  - did\n",
    "  - ord"
   ]
  },
  {
   "cell_type": "markdown",
   "metadata": {},
   "source": [
    "输入： csv, css, tmpls( [{afmt, qfmt}, {...}, ...] ), flds( [{font, name}, ...])"
   ]
  },
  {
   "cell_type": "code",
   "execution_count": 3,
   "metadata": {
    "collapsed": false
   },
   "outputs": [],
   "source": [
    "default_flds = {'font': 'Arial',\n",
    "                'media': [],\n",
    "                'name': 'name',\n",
    "                'ord': 1,\n",
    "                'rtl': False,\n",
    "                'size': 20,\n",
    "                'sticky': False}\n",
    "\n",
    "def gen_flds(cnames):\n",
    "    ecnames = enumerate(cnames)\n",
    "    def gen_fld(ordid, name, custom):\n",
    "        for key in custom.keys() - default_flds.keys():\n",
    "            del custom[key]\n",
    "        \n",
    "        fld = default_flds.copy()\n",
    "        fld['ord'] = ordid\n",
    "        fld['name'] = name\n",
    "        return fld\n"
   ]
  },
  {
   "cell_type": "code",
   "execution_count": 13,
   "metadata": {
    "collapsed": false
   },
   "outputs": [],
   "source": [
    "flds_schema = {\n",
    "    'title': 'Fields',\n",
    "    'type': 'array',\n",
    "    'minItems': 1,\n",
    "    'items': {\n",
    "        'type': 'object',\n",
    "        'required': ['font', 'media', 'name', 'ord', 'rtl', 'size', 'sticky'],\n",
    "        'properties': {\n",
    "            'font': {\n",
    "                'description': \"display font\",\n",
    "                'type': 'string'\n",
    "            },\n",
    "            'media': {\n",
    "                'description': \"array of media. appears to be unused\",\n",
    "                'type': 'array',\n",
    "                'maxItems': 0\n",
    "            },\n",
    "            'name' : {\n",
    "                'description': \"field name\",\n",
    "                'type': 'string'\n",
    "            },\n",
    "            'ord' : {\n",
    "                'description': \"ordinal of the field - goes from 0 to num fields -1\",\n",
    "                'type': 'integer',\n",
    "                'minimum': 0\n",
    "            },\n",
    "            'rtl' : {\n",
    "                'description': \"boolean, right-to-left script\",\n",
    "                'type': 'boolean'\n",
    "            },\n",
    "            'size' : {\n",
    "                'description': \"font size\",\n",
    "                'type': 'integer',\n",
    "                'minimun': 1\n",
    "            },\n",
    "            'sticky' : {\n",
    "                'description': \"sticky fields retain the value that was last added when adding new notes\",\n",
    "                'type': 'boolean'\n",
    "            }\n",
    "        }\n",
    "    }\n",
    "}"
   ]
  },
  {
   "cell_type": "code",
   "execution_count": 17,
   "metadata": {
    "collapsed": true
   },
   "outputs": [],
   "source": [
    "from jsonschema import validate, Draft4Validator\n"
   ]
  },
  {
   "cell_type": "code",
   "execution_count": 22,
   "metadata": {
    "collapsed": false
   },
   "outputs": [
    {
     "data": {
      "text/plain": [
       "[(deque([0]), \"'font' is a required property\"),\n",
       " (deque([0]), \"'media' is a required property\"),\n",
       " (deque([0]), \"'name' is a required property\"),\n",
       " (deque([0]), \"'ord' is a required property\"),\n",
       " (deque([0]), \"'rtl' is a required property\"),\n",
       " (deque([0]), \"'size' is a required property\"),\n",
       " (deque([0]), \"'sticky' is a required property\")]"
      ]
     },
     "execution_count": 22,
     "metadata": {},
     "output_type": "execute_result"
    }
   ],
   "source": [
    "v = Draft4Validator(flds_schema)\n",
    "errors = v.iter_errors([{}])\n",
    "[(e.path, e.message) for e in errors]\n",
    "\n"
   ]
  },
  {
   "cell_type": "code",
   "execution_count": 18,
   "metadata": {
    "collapsed": true
   },
   "outputs": [],
   "source": [
    "from jsonschema.exceptions import best_match"
   ]
  },
  {
   "cell_type": "code",
   "execution_count": 25,
   "metadata": {
    "collapsed": false
   },
   "outputs": [
    {
     "data": {
      "text/plain": [
       "deque([0])"
      ]
     },
     "execution_count": 25,
     "metadata": {},
     "output_type": "execute_result"
    }
   ],
   "source": [
    "best_match(v.iter_errors([{}])).path"
   ]
  }
 ],
 "metadata": {
  "anaconda-cloud": {},
  "kernelspec": {
   "display_name": "Python [default]",
   "language": "python",
   "name": "python3"
  },
  "language_info": {
   "codemirror_mode": {
    "name": "ipython",
    "version": 3
   },
   "file_extension": ".py",
   "mimetype": "text/x-python",
   "name": "python",
   "nbconvert_exporter": "python",
   "pygments_lexer": "ipython3",
   "version": "3.5.2"
  }
 },
 "nbformat": 4,
 "nbformat_minor": 0
}
>>>>>>> 9844425890a15d8b3448004a0a90382a4e163518
