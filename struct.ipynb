{
 "cells": [
  {
   "cell_type": "code",
   "execution_count": 47,
   "metadata": {
    "collapsed": false
   },
   "outputs": [
    {
     "name": "stdout",
     "output_type": "stream",
     "text": [
      "qmark\n",
      "{'1': {'collapsed': False,\n",
      "       'conf': 1,\n",
      "       'desc': '',\n",
      "       'dyn': 0,\n",
      "       'extendNew': 10,\n",
      "       'extendRev': 50,\n",
      "       'id': 1,\n",
      "       'lrnToday': [0, 0],\n",
      "       'mod': 1456878337,\n",
      "       'name': 'Default',\n",
      "       'newToday': [0, 0],\n",
      "       'revToday': [0, 0],\n",
      "       'timeToday': [0, 0],\n",
      "       'usn': 0},\n",
      " '1402565045437': {'browserCollapsed': True,\n",
      "                   'collapsed': False,\n",
      "                   'conf': 1,\n",
      "                   'desc': 'Please see the <a '\n",
      "                           \"href='https://ankiweb.net/shared/info/812576016'>shared \"\n",
      "                           'deck page</a> for more info.',\n",
      "                   'dyn': 0,\n",
      "                   'extendNew': 10,\n",
      "                   'extendRev': 50,\n",
      "                   'id': 1402565045437,\n",
      "                   'lrnToday': [759, 0],\n",
      "                   'mod': 1456878342,\n",
      "                   'name': 'Upper',\n",
      "                   'newToday': [759, 0],\n",
      "                   'revToday': [759, 0],\n",
      "                   'timeToday': [759, 0],\n",
      "                   'usn': -1}}\n"
     ]
    }
   ],
   "source": [
    "import zipfile\n",
    "import sqlite3 as sql\n",
    "import json\n",
    "import pprint\n",
    "\n",
    "with zipfile.ZipFile('zh.apkg', 'r') as z, open('collection.anki2', 'wb') as anki2:\n",
    "    db = z.read('collection.anki2')\n",
    "    anki2.write(db)\n",
    "    dbconn = sql.connect('collection.anki2')\n",
    "    cursor = dbconn.cursor()\n",
    "#     cursor.execute('select models from col')\n",
    "#     models = json.loads(cursor.fetchone()[0])\n",
    "#     models = models.popitem()[1]\n",
    "#     pprint.pprint(models['tmpls'])\n",
    "\n",
    "    \n",
    "#     cursor.execute('select decks from col')\n",
    "#     decks = json.loads(cursor.fetchone()[0])\n",
    "#     decks = decks.popitem()[1]\n",
    "#     pprint.pprint(decks)\n",
    "    cursor.execute('select decks from col')\n",
    "    col = cursor.fetchone()[0]\n",
    "    col = json.loads(col)\n",
    "    pprint.pprint(col)"
   ]
  }
 ],
 "metadata": {
  "kernelspec": {
   "display_name": "Python [Root]",
   "language": "python",
   "name": "Python [Root]"
  },
  "language_info": {
   "codemirror_mode": {
    "name": "ipython",
    "version": 3
   },
   "file_extension": ".py",
   "mimetype": "text/x-python",
   "name": "python",
   "nbconvert_exporter": "python",
   "pygments_lexer": "ipython3",
   "version": "3.5.2"
  }
 },
 "nbformat": 4,
 "nbformat_minor": 0
}
