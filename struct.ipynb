{
 "cells": [
  {
   "cell_type": "code",
   "execution_count": 22,
   "metadata": {
    "collapsed": false
   },
   "outputs": [
    {
     "name": "stdout",
     "output_type": "stream",
     "text": [
      "{'sortf': 0, 'type': 0, 'vers': [], 'id': '1470123337189', 'name': '基础', 'did': 1470123357010, 'latexPost': '\\\\end{document}', 'tags': [], 'latexPre': '\\\\documentclass[12pt]{article}\\n\\\\special{papersize=3in,5in}\\n\\\\usepackage[utf8]{inputenc}\\n\\\\usepackage{amssymb,amsmath}\\n\\\\pagestyle{empty}\\n\\\\setlength{\\\\parindent}{0in}\\n\\\\begin{document}\\n', 'mod': 1470127123, 'usn': -1, 'tmpls': [{'ord': 0, 'bqfmt': '', 'bafmt': '', 'did': None, 'name': '卡片 2', 'qfmt': '{{字母}} <br>\\n{{键位}}', 'afmt': '{{字母}} {{识别码}} {{一级简码}}\\n<hr id=answer>\\n{{口诀}} <br>\\n{{图片}}<br>\\n{{键位}}'}, {'ord': 1, 'bqfmt': '', 'bafmt': '', 'name': '卡片 3', 'afmt': '{{FrontSide}}\\n\\n<hr id=answer>\\n\\n{{字母}} {{识别码}} {{一级简码}} <br>\\n{{图片}}<br>\\n{{键位}}', 'did': 1470123357010, 'qfmt': '{{口诀}}'}], 'flds': [{'font': 'Arial', 'rtl': False, 'ord': 0, 'name': '字母', 'media': [], 'sticky': False, 'size': 20}, {'font': 'Arial', 'rtl': False, 'ord': 1, 'name': '识别码', 'media': [], 'sticky': False, 'size': 20}, {'font': 'Arial', 'rtl': False, 'ord': 2, 'name': '一级简码', 'media': [], 'sticky': False, 'size': 20}, {'font': 'Arial', 'rtl': False, 'ord': 3, 'name': '口诀', 'media': [], 'sticky': False, 'size': 20}, {'font': 'Arial', 'rtl': False, 'ord': 4, 'name': '图片', 'media': [], 'sticky': False, 'size': 20}, {'font': 'Arial', 'rtl': False, 'sticky': False, 'ord': 5, 'name': '键位', 'media': [], 'size': 20}], 'css': '.card {\\n font-family: arial;\\n font-size: 20px;\\n text-align: center;\\n color: black;\\n background-color: white;\\n}\\n', 'req': [[0, 'any', [0, 5]], [1, 'all', [3]]]}\n"
     ]
    }
   ],
   "source": [
    "import zipfile\n",
    "import sqlite3 as sql\n",
    "import json\n",
    "\n",
    "with zipfile.ZipFile('test.apkg', 'r') as z, open('collection.anki2', 'wb') as anki2:\n",
    "    db = z.read('collection.anki2')\n",
    "    anki2.write(db)\n",
    "    dbconn = sql.connect('collection.anki2')\n",
    "    cursor = dbconn.cursor()\n",
    "    cursor.execute('select models from col')\n",
    "    models = json.loads(cursor.fetchone()[0])\n",
    "#     models = cursor.fetchone()[0]\n",
    "    models = models.popitem()[1]\n",
    "    print(models)\n"
   ]
  }
 ],
 "metadata": {
  "kernelspec": {
   "display_name": "Python [Root]",
   "language": "python",
   "name": "Python [Root]"
  },
  "language_info": {
   "codemirror_mode": {
    "name": "ipython",
    "version": 3
   },
   "file_extension": ".py",
   "mimetype": "text/x-python",
   "name": "python",
   "nbconvert_exporter": "python",
   "pygments_lexer": "ipython3",
   "version": "3.5.2"
  }
 },
 "nbformat": 4,
 "nbformat_minor": 0
}
